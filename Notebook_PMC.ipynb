{
 "cells": [
  {
   "cell_type": "code",
   "execution_count": 2,
   "metadata": {},
   "outputs": [
    {
     "name": "stderr",
     "output_type": "stream",
     "text": [
      "/home/constantjunior/anaconda3/lib/python3.7/site-packages/pandas/compat/_optional.py:138: UserWarning: Pandas requires version '2.7.0' or newer of 'numexpr' (version '2.6.9' currently installed).\n",
      "  warnings.warn(msg, UserWarning)\n"
     ]
    }
   ],
   "source": [
    "import idx2numpy\n",
    "import numpy as np\n",
    "import matplotlib.pyplot as plt\n",
    "from sklearn.metrics import classification_report,ConfusionMatrixDisplay\n",
    "from sklearn.metrics import confusion_matrix,multilabel_confusion_matrix\n",
    "import seaborn as sn"
   ]
  },
  {
   "cell_type": "code",
   "execution_count": 3,
   "metadata": {},
   "outputs": [],
   "source": [
    "from keras.models import Sequential, load_model\n",
    "from keras.layers.core import Dense, Dropout, Activation\n",
    "from keras.layers import BatchNormalization\n",
    "from keras.callbacks import EarlyStopping\n",
    "from keras.utils import np_utils\n",
    "import visualkeras"
   ]
  },
  {
   "cell_type": "code",
   "execution_count": 3,
   "metadata": {},
   "outputs": [],
   "source": [
    "x_train_file = './data/train-images.idx3-ubyte'\n",
    "x_test_file = './data/t10k-images.idx3-ubyte'\n",
    "y_train_file = './data/train-labels.idx1-ubyte'\n",
    "y_test_file = './data/t10k-labels.idx1-ubyte'"
   ]
  },
  {
   "cell_type": "code",
   "execution_count": 4,
   "metadata": {},
   "outputs": [],
   "source": [
    "x_train = idx2numpy.convert_from_file(x_train_file)\n",
    "x_test = idx2numpy.convert_from_file(x_test_file)\n",
    "y_train = idx2numpy.convert_from_file(y_train_file)\n",
    "y_test = idx2numpy.convert_from_file(y_test_file)"
   ]
  },
  {
   "cell_type": "code",
   "execution_count": 5,
   "metadata": {},
   "outputs": [
    {
     "data": {
      "text/plain": [
       "<matplotlib.image.AxesImage at 0x7fea2894d9b0>"
      ]
     },
     "execution_count": 5,
     "metadata": {},
     "output_type": "execute_result"
    },
    {
     "data": {
      "image/png": "[encoded data removed]",
      "text/plain": [
       "<Figure size 432x288 with 1 Axes>"
      ]
     },
     "metadata": {
      "needs_background": "light"
     },
     "output_type": "display_data"
    }
   ],
   "source": [
    "plt.imshow(x_train[2], cmap=plt.cm.binary)"
   ]
  },
  {
   "cell_type": "code",
   "execution_count": 6,
   "metadata": {},
   "outputs": [
    {
     "data": {
      "text/plain": [
       "Text(0.5, 1.0, 'Digit: 4')"
      ]
     },
     "execution_count": 6,
     "metadata": {},
     "output_type": "execute_result"
    },
    {
     "data": {
      "image/png": "[encoded data removed]",
      "text/plain": [
       "<Figure size 432x288 with 1 Axes>"
      ]
     },
     "metadata": {
      "needs_background": "light"
     },
     "output_type": "display_data"
    }
   ],
   "source": [
    "plt.imshow(x_test[4], cmap='gray', interpolation='none')\n",
    "plt.title(\"Digit: {}\".format(y_test[4]))"
   ]
  },
  {
   "cell_type": "code",
   "execution_count": 7,
   "metadata": {},
   "outputs": [
    {
     "data": {
      "image/png": "[encoded data removed]",
      "text/plain": [
       "<Figure size 432x288 with 9 Axes>"
      ]
     },
     "metadata": {},
     "output_type": "display_data"
    }
   ],
   "source": [
    "fig = plt.figure()\n",
    "for i in range(9):\n",
    "    plt.subplot(3,3,i+1)\n",
    "    plt.tight_layout()\n",
    "    plt.imshow(x_train[i], cmap='gray', interpolation='none')\n",
    "    plt.title(\"Digit: {}\".format(y_train[i]))\n",
    "    plt.xticks([])\n",
    "    plt.yticks([])\n"
   ]
  },
  {
   "cell_type": "code",
   "execution_count": 8,
   "metadata": {},
   "outputs": [
    {
     "data": {
      "text/plain": [
       "Text(0.5, 1.0, 'Pixel Value Distribution')"
      ]
     },
     "execution_count": 8,
     "metadata": {},
     "output_type": "execute_result"
    },
    {
     "data": {
      "image/png": "[encoded data removed]",
      "text/plain": [
       "<Figure size 432x288 with 2 Axes>"
      ]
     },
     "metadata": {
      "needs_background": "light"
     },
     "output_type": "display_data"
    }
   ],
   "source": [
    "fig = plt.figure()\n",
    "plt.subplot(2,1,1)\n",
    "plt.imshow(x_train[0], cmap='gray', interpolation='none')\n",
    "plt.title(\"Digit: {}\".format(y_train[0]))\n",
    "plt.xticks([])\n",
    "plt.yticks([])\n",
    "plt.subplot(2,1,2)\n",
    "plt.hist(x_train[0].reshape(784))\n",
    "plt.title(\"Pixel Value Distribution\")\n"
   ]
  },
  {
   "cell_type": "code",
   "execution_count": 10,
   "metadata": {},
   "outputs": [
    {
     "name": "stdout",
     "output_type": "stream",
     "text": [
      "X_train shape (60000, 784)\n",
      "y_train shape (60000,)\n",
      "X_test shape (10000, 784)\n",
      "y_test shape (10000,)\n",
      "Train matrix shape (60000, 784)\n",
      "Test matrix shape (10000, 784)\n"
     ]
    }
   ],
   "source": [
    "# let's print the shape before we reshape and normalize\n",
    "print(\"X_train shape\", x_train.shape)\n",
    "print(\"y_train shape\", y_train.shape)\n",
    "print(\"X_test shape\", x_test.shape)\n",
    "print(\"y_test shape\", y_test.shape)\n",
    "\n",
    "# building the input vector from the 28x28 pixels\n",
    "x_train = x_train.reshape(60000, 784)\n",
    "x_test = x_test.reshape(10000, 784)\n",
    "x_train = x_train.astype('float32')\n",
    "x_test = x_test.astype('float32')\n",
    "\n",
    "# print the final input shape ready for training\n",
    "print(\"Train matrix shape\", x_train.shape)\n",
    "print(\"Test matrix shape\", x_test.shape)"
   ]
  },
  {
   "cell_type": "code",
   "execution_count": 11,
   "metadata": {},
   "outputs": [
    {
     "name": "stdout",
     "output_type": "stream",
     "text": [
      "(array([0, 1, 2, 3, 4, 5, 6, 7, 8, 9], dtype=uint8), array([5923, 6742, 5958, 6131, 5842, 5421, 5918, 6265, 5851, 5949]))\n"
     ]
    }
   ],
   "source": [
    "print(np.unique(y_train, return_counts=True))"
   ]
  },
  {
   "cell_type": "code",
   "execution_count": null,
   "metadata": {},
   "outputs": [],
   "source": []
  },
  {
   "cell_type": "markdown",
   "metadata": {},
   "source": [
    "## Model Sans BatchNormalization et Early stopping"
   ]
  },
  {
   "cell_type": "code",
   "execution_count": 12,
   "metadata": {},
   "outputs": [],
   "source": [
    "\n",
    "# Model 1\n",
    "model1 = Sequential()\n",
    "model1.add(Dense(784, input_shape=(784,)))\n",
    "model1.add(Dense(392,Activation('relu')))\n",
    "model1.add(Dense(196,Activation('relu')))\n",
    "model1.add(Dense(10,Activation('softmax')))\n",
    "model1.compile(loss='sparse_categorical_crossentropy', metrics=['accuracy'], optimizer='adam')\n",
    "\n",
    "# Model 2 \n",
    "model2 = Sequential()\n",
    "model2.add(Dense(784, input_shape=(784,)))\n",
    "model2.add(Dense(392,Activation('relu')))\n",
    "model2.add(Dense(196,Activation('softplus')))\n",
    "model2.add(Dense(98,Activation('relu')))\n",
    "model2.add(Dense(10,Activation('softmax')))\n",
    "model2.compile(loss='sparse_categorical_crossentropy', metrics=['accuracy'], optimizer='adam')\n",
    "\n",
    "# Model 3\n",
    "\n",
    "model3 = Sequential()\n",
    "model3.add(Dense(784, input_shape=(784,)))\n",
    "model3.add(Dense(392,Activation('relu')))\n",
    "model3.add(Dense(196,Activation('elu')))\n",
    "model3.add(Dense(190,Activation('relu')))\n",
    "model3.add(Dense(19,Activation('softplus')))\n",
    "model3.add(Dense(10,Activation('softmax')))\n",
    "model3.compile(loss='sparse_categorical_crossentropy', metrics=['accuracy'], optimizer='adam')\n"
   ]
  },
  {
   "cell_type": "code",
   "execution_count": 13,
   "metadata": {},
   "outputs": [
    {
     "name": "stdout",
     "output_type": "stream",
     "text": [
      "Model: \"sequential\"\n",
      "_________________________________________________________________\n",
      " Layer (type)                Output Shape              Param #   \n",
      "=================================================================\n",
      " dense (Dense)               (None, 784)               615440    \n",
      "                                                                 \n",
      " dense_1 (Dense)             (None, 392)               307720    \n",
      "                                                                 \n",
      " dense_2 (Dense)             (None, 196)               77028     \n",
      "                                                                 \n",
      " dense_3 (Dense)             (None, 10)                1970      \n",
      "                                                                 \n",
      "=================================================================\n",
      "Total params: 1,002,158\n",
      "Trainable params: 1,002,158\n",
      "Non-trainable params: 0\n",
      "_________________________________________________________________\n",
      "#################\n",
      "Model: \"sequential_1\"\n",
      "_________________________________________________________________\n",
      " Layer (type)                Output Shape              Param #   \n",
      "=================================================================\n",
      " dense_4 (Dense)             (None, 784)               615440    \n",
      "                                                                 \n",
      " dense_5 (Dense)             (None, 392)               307720    \n",
      "                                                                 \n",
      " dense_6 (Dense)             (None, 196)               77028     \n",
      "                                                                 \n",
      " dense_7 (Dense)             (None, 98)                19306     \n",
      "                                                                 \n",
      " dense_8 (Dense)             (None, 10)                990       \n",
      "                                                                 \n",
      "=================================================================\n",
      "Total params: 1,020,484\n",
      "Trainable params: 1,020,484\n",
      "Non-trainable params: 0\n",
      "_________________________________________________________________\n",
      "#################\n",
      "Model: \"sequential_2\"\n",
      "_________________________________________________________________\n",
      " Layer (type)                Output Shape              Param #   \n",
      "=================================================================\n",
      " dense_9 (Dense)             (None, 784)               615440    \n",
      "                                                                 \n",
      " dense_10 (Dense)            (None, 392)               307720    \n",
      "                                                                 \n",
      " dense_11 (Dense)            (None, 196)               77028     \n",
      "                                                                 \n",
      " dense_12 (Dense)            (None, 190)               37430     \n",
      "                                                                 \n",
      " dense_13 (Dense)            (None, 19)                3629      \n",
      "                                                                 \n",
      " dense_14 (Dense)            (None, 10)                200       \n",
      "                                                                 \n",
      "=================================================================\n",
      "Total params: 1,041,447\n",
      "Trainable params: 1,041,447\n",
      "Non-trainable params: 0\n",
      "_________________________________________________________________\n",
      "#################\n"
     ]
    }
   ],
   "source": [
    "model1.summary()\n",
    "print(\"#################\")\n",
    "model2.summary()\n",
    "print(\"#################\")\n",
    "model3.summary()\n",
    "print(\"#################\")"
   ]
  },
  {
   "cell_type": "code",
   "execution_count": 14,
   "metadata": {},
   "outputs": [
    {
     "name": "stdout",
     "output_type": "stream",
     "text": [
      "Model 1\n",
      "Epoch 1/20\n",
      "600/600 - 39s - loss: 0.2116 - accuracy: 0.9345 - val_loss: 0.1305 - val_accuracy: 0.9610 - 39s/epoch - 64ms/step\n",
      "Epoch 2/20\n",
      "600/600 - 40s - loss: 0.1021 - accuracy: 0.9679 - val_loss: 0.0889 - val_accuracy: 0.9724 - 40s/epoch - 66ms/step\n",
      "Epoch 3/20\n",
      "600/600 - 39s - loss: 0.0788 - accuracy: 0.9749 - val_loss: 0.1026 - val_accuracy: 0.9679 - 39s/epoch - 65ms/step\n",
      "Epoch 4/20\n",
      "600/600 - 38s - loss: 0.0619 - accuracy: 0.9807 - val_loss: 0.0915 - val_accuracy: 0.9730 - 38s/epoch - 64ms/step\n",
      "Epoch 5/20\n",
      "600/600 - 34s - loss: 0.0548 - accuracy: 0.9827 - val_loss: 0.1006 - val_accuracy: 0.9717 - 34s/epoch - 56ms/step\n",
      "Epoch 6/20\n",
      "600/600 - 33s - loss: 0.0513 - accuracy: 0.9835 - val_loss: 0.1139 - val_accuracy: 0.9699 - 33s/epoch - 56ms/step\n",
      "Epoch 7/20\n",
      "600/600 - 35s - loss: 0.0467 - accuracy: 0.9855 - val_loss: 0.0854 - val_accuracy: 0.9776 - 35s/epoch - 58ms/step\n",
      "Epoch 8/20\n",
      "600/600 - 33s - loss: 0.0425 - accuracy: 0.9860 - val_loss: 0.0798 - val_accuracy: 0.9786 - 33s/epoch - 55ms/step\n",
      "Epoch 9/20\n",
      "600/600 - 33s - loss: 0.0384 - accuracy: 0.9877 - val_loss: 0.0974 - val_accuracy: 0.9770 - 33s/epoch - 54ms/step\n",
      "Epoch 10/20\n",
      "600/600 - 35s - loss: 0.0362 - accuracy: 0.9889 - val_loss: 0.1123 - val_accuracy: 0.9745 - 35s/epoch - 58ms/step\n",
      "Epoch 11/20\n",
      "600/600 - 35s - loss: 0.0323 - accuracy: 0.9900 - val_loss: 0.0899 - val_accuracy: 0.9781 - 35s/epoch - 59ms/step\n",
      "Epoch 12/20\n",
      "600/600 - 29s - loss: 0.0352 - accuracy: 0.9895 - val_loss: 0.1188 - val_accuracy: 0.9723 - 29s/epoch - 48ms/step\n",
      "Epoch 13/20\n",
      "600/600 - 29s - loss: 0.0285 - accuracy: 0.9911 - val_loss: 0.0998 - val_accuracy: 0.9806 - 29s/epoch - 49ms/step\n",
      "Epoch 14/20\n",
      "600/600 - 29s - loss: 0.0283 - accuracy: 0.9913 - val_loss: 0.1071 - val_accuracy: 0.9794 - 29s/epoch - 49ms/step\n",
      "Epoch 15/20\n",
      "600/600 - 30s - loss: 0.0355 - accuracy: 0.9890 - val_loss: 0.1181 - val_accuracy: 0.9762 - 30s/epoch - 51ms/step\n",
      "Epoch 16/20\n",
      "600/600 - 30s - loss: 0.0268 - accuracy: 0.9922 - val_loss: 0.1285 - val_accuracy: 0.9774 - 30s/epoch - 50ms/step\n",
      "Epoch 17/20\n",
      "600/600 - 29s - loss: 0.0251 - accuracy: 0.9931 - val_loss: 0.1020 - val_accuracy: 0.9801 - 29s/epoch - 49ms/step\n",
      "Epoch 18/20\n",
      "600/600 - 29s - loss: 0.0318 - accuracy: 0.9912 - val_loss: 0.1128 - val_accuracy: 0.9788 - 29s/epoch - 49ms/step\n",
      "Epoch 19/20\n",
      "600/600 - 29s - loss: 0.0290 - accuracy: 0.9917 - val_loss: 0.1628 - val_accuracy: 0.9720 - 29s/epoch - 48ms/step\n",
      "Epoch 20/20\n",
      "600/600 - 29s - loss: 0.0331 - accuracy: 0.9908 - val_loss: 0.1368 - val_accuracy: 0.9744 - 29s/epoch - 48ms/step\n",
      "Model 2\n",
      "Epoch 1/20\n",
      "600/600 - 27s - loss: 0.2383 - accuracy: 0.9282 - val_loss: 0.1267 - val_accuracy: 0.9604 - 27s/epoch - 46ms/step\n",
      "Epoch 2/20\n",
      "600/600 - 15s - loss: 0.1107 - accuracy: 0.9662 - val_loss: 0.1049 - val_accuracy: 0.9660 - 15s/epoch - 25ms/step\n",
      "Epoch 3/20\n",
      "600/600 - 15s - loss: 0.0793 - accuracy: 0.9750 - val_loss: 0.1002 - val_accuracy: 0.9698 - 15s/epoch - 25ms/step\n",
      "Epoch 4/20\n",
      "600/600 - 15s - loss: 0.0668 - accuracy: 0.9785 - val_loss: 0.0852 - val_accuracy: 0.9741 - 15s/epoch - 25ms/step\n",
      "Epoch 5/20\n",
      "600/600 - 15s - loss: 0.0590 - accuracy: 0.9819 - val_loss: 0.0753 - val_accuracy: 0.9770 - 15s/epoch - 24ms/step\n",
      "Epoch 6/20\n",
      "600/600 - 15s - loss: 0.0498 - accuracy: 0.9844 - val_loss: 0.0826 - val_accuracy: 0.9780 - 15s/epoch - 24ms/step\n",
      "Epoch 7/20\n",
      "600/600 - 15s - loss: 0.0479 - accuracy: 0.9847 - val_loss: 0.0931 - val_accuracy: 0.9729 - 15s/epoch - 25ms/step\n",
      "Epoch 8/20\n",
      "600/600 - 15s - loss: 0.0401 - accuracy: 0.9876 - val_loss: 0.0991 - val_accuracy: 0.9732 - 15s/epoch - 25ms/step\n",
      "Epoch 9/20\n",
      "600/600 - 15s - loss: 0.0397 - accuracy: 0.9877 - val_loss: 0.0867 - val_accuracy: 0.9783 - 15s/epoch - 25ms/step\n",
      "Epoch 10/20\n",
      "600/600 - 15s - loss: 0.0377 - accuracy: 0.9873 - val_loss: 0.0958 - val_accuracy: 0.9780 - 15s/epoch - 25ms/step\n",
      "Epoch 11/20\n",
      "600/600 - 15s - loss: 0.0371 - accuracy: 0.9886 - val_loss: 0.0929 - val_accuracy: 0.9792 - 15s/epoch - 24ms/step\n",
      "Epoch 12/20\n",
      "600/600 - 15s - loss: 0.0274 - accuracy: 0.9911 - val_loss: 0.1029 - val_accuracy: 0.9747 - 15s/epoch - 25ms/step\n",
      "Epoch 13/20\n",
      "600/600 - 15s - loss: 0.0307 - accuracy: 0.9908 - val_loss: 0.1002 - val_accuracy: 0.9746 - 15s/epoch - 25ms/step\n",
      "Epoch 14/20\n",
      "600/600 - 15s - loss: 0.0266 - accuracy: 0.9919 - val_loss: 0.0652 - val_accuracy: 0.9825 - 15s/epoch - 25ms/step\n",
      "Epoch 15/20\n",
      "600/600 - 15s - loss: 0.0257 - accuracy: 0.9919 - val_loss: 0.0847 - val_accuracy: 0.9792 - 15s/epoch - 24ms/step\n",
      "Epoch 16/20\n",
      "600/600 - 15s - loss: 0.0280 - accuracy: 0.9918 - val_loss: 0.0937 - val_accuracy: 0.9779 - 15s/epoch - 25ms/step\n",
      "Epoch 17/20\n",
      "600/600 - 15s - loss: 0.0262 - accuracy: 0.9922 - val_loss: 0.1087 - val_accuracy: 0.9782 - 15s/epoch - 25ms/step\n",
      "Epoch 18/20\n",
      "600/600 - 15s - loss: 0.0222 - accuracy: 0.9933 - val_loss: 0.0956 - val_accuracy: 0.9796 - 15s/epoch - 25ms/step\n",
      "Epoch 19/20\n",
      "600/600 - 15s - loss: 0.0230 - accuracy: 0.9931 - val_loss: 0.0972 - val_accuracy: 0.9793 - 15s/epoch - 25ms/step\n",
      "Epoch 20/20\n",
      "600/600 - 15s - loss: 0.0241 - accuracy: 0.9932 - val_loss: 0.0934 - val_accuracy: 0.9807 - 15s/epoch - 24ms/step\n",
      "Model 3\n",
      "Epoch 1/20\n",
      "600/600 - 17s - loss: 0.2579 - accuracy: 0.9210 - val_loss: 0.1278 - val_accuracy: 0.9596 - 17s/epoch - 28ms/step\n",
      "Epoch 2/20\n",
      "600/600 - 15s - loss: 0.1127 - accuracy: 0.9651 - val_loss: 0.0999 - val_accuracy: 0.9683 - 15s/epoch - 25ms/step\n",
      "Epoch 3/20\n",
      "600/600 - 15s - loss: 0.0857 - accuracy: 0.9736 - val_loss: 0.1009 - val_accuracy: 0.9702 - 15s/epoch - 25ms/step\n",
      "Epoch 4/20\n",
      "600/600 - 15s - loss: 0.0698 - accuracy: 0.9782 - val_loss: 0.0855 - val_accuracy: 0.9749 - 15s/epoch - 26ms/step\n",
      "Epoch 5/20\n",
      "600/600 - 15s - loss: 0.0626 - accuracy: 0.9799 - val_loss: 0.0855 - val_accuracy: 0.9758 - 15s/epoch - 25ms/step\n",
      "Epoch 6/20\n",
      "600/600 - 15s - loss: 0.0536 - accuracy: 0.9823 - val_loss: 0.0944 - val_accuracy: 0.9727 - 15s/epoch - 25ms/step\n",
      "Epoch 7/20\n",
      "600/600 - 15s - loss: 0.0486 - accuracy: 0.9847 - val_loss: 0.0897 - val_accuracy: 0.9725 - 15s/epoch - 25ms/step\n",
      "Epoch 8/20\n",
      "600/600 - 15s - loss: 0.0429 - accuracy: 0.9867 - val_loss: 0.1018 - val_accuracy: 0.9747 - 15s/epoch - 25ms/step\n",
      "Epoch 9/20\n",
      "600/600 - 15s - loss: 0.0417 - accuracy: 0.9867 - val_loss: 0.0928 - val_accuracy: 0.9741 - 15s/epoch - 25ms/step\n",
      "Epoch 10/20\n",
      "600/600 - 15s - loss: 0.0384 - accuracy: 0.9878 - val_loss: 0.0993 - val_accuracy: 0.9757 - 15s/epoch - 25ms/step\n",
      "Epoch 11/20\n",
      "600/600 - 15s - loss: 0.0379 - accuracy: 0.9881 - val_loss: 0.1014 - val_accuracy: 0.9753 - 15s/epoch - 25ms/step\n",
      "Epoch 12/20\n",
      "600/600 - 15s - loss: 0.0318 - accuracy: 0.9899 - val_loss: 0.0895 - val_accuracy: 0.9770 - 15s/epoch - 25ms/step\n",
      "Epoch 13/20\n",
      "600/600 - 15s - loss: 0.0303 - accuracy: 0.9909 - val_loss: 0.0934 - val_accuracy: 0.9742 - 15s/epoch - 25ms/step\n",
      "Epoch 14/20\n",
      "600/600 - 15s - loss: 0.0319 - accuracy: 0.9900 - val_loss: 0.0873 - val_accuracy: 0.9784 - 15s/epoch - 25ms/step\n",
      "Epoch 15/20\n",
      "600/600 - 15s - loss: 0.0241 - accuracy: 0.9925 - val_loss: 0.0818 - val_accuracy: 0.9799 - 15s/epoch - 25ms/step\n",
      "Epoch 16/20\n",
      "600/600 - 15s - loss: 0.0300 - accuracy: 0.9908 - val_loss: 0.0937 - val_accuracy: 0.9796 - 15s/epoch - 25ms/step\n",
      "Epoch 17/20\n",
      "600/600 - 15s - loss: 0.0259 - accuracy: 0.9922 - val_loss: 0.0871 - val_accuracy: 0.9796 - 15s/epoch - 24ms/step\n",
      "Epoch 18/20\n",
      "600/600 - 15s - loss: 0.0219 - accuracy: 0.9934 - val_loss: 0.0850 - val_accuracy: 0.9796 - 15s/epoch - 25ms/step\n",
      "Epoch 19/20\n",
      "600/600 - 15s - loss: 0.0245 - accuracy: 0.9930 - val_loss: 0.0792 - val_accuracy: 0.9817 - 15s/epoch - 25ms/step\n",
      "Epoch 20/20\n",
      "600/600 - 15s - loss: 0.0213 - accuracy: 0.9935 - val_loss: 0.0867 - val_accuracy: 0.9801 - 15s/epoch - 25ms/step\n"
     ]
    }
   ],
   "source": [
    "# training the model and saving metrics in history\n",
    "print(\"Model 1\")\n",
    "history_1 = model1.fit(x_train, y_train,batch_size=100, epochs=20,verbose=2,validation_data=(x_test, y_test))\n",
    "print(\"Model 2\")\n",
    "history_2 = model2.fit(x_train, y_train,batch_size=100, epochs=20,verbose=2,validation_data=(x_test, y_test))\n",
    "print(\"Model 3\")\n",
    "history_3 = model3.fit(x_train, y_train,batch_size=100, epochs=20,verbose=2,validation_data=(x_test, y_test))"
   ]
  },
  {
   "cell_type": "code",
   "execution_count": 17,
   "metadata": {},
   "outputs": [
    {
     "name": "stdout",
     "output_type": "stream",
     "text": [
      "313/313 - 10s - loss: 0.1368 - accuracy: 0.9744 - 10s/epoch - 32ms/step\n",
      "313/313 - 11s - loss: 0.0934 - accuracy: 0.9807 - 11s/epoch - 34ms/step\n",
      "313/313 - 10s - loss: 0.0867 - accuracy: 0.9801 - 10s/epoch - 33ms/step\n"
     ]
    },
    {
     "data": {
      "image/png": "[encoded data removed]",
      "text/plain": [
       "<PIL.Image.Image image mode=RGBA size=215x63 at 0x7FEA1BC46DD8>"
      ]
     },
     "execution_count": 17,
     "metadata": {},
     "output_type": "execute_result"
    }
   ],
   "source": [
    "evaluation_1 =  model1.evaluate(x_test, y_test, verbose=2)\n",
    "evaluation_2 =  model2.evaluate(x_test, y_test, verbose=2)\n",
    "evaluation_3 =  model3.evaluate(x_test, y_test, verbose=2)\n",
    "visualkeras.layered_view(model1, legend=True,)\n"
   ]
  },
  {
   "cell_type": "code",
   "execution_count": null,
   "metadata": {},
   "outputs": [],
   "source": [
    "# print(\"Model 1 : Loss = {} , Accuracy = {}\".format(evaluation_1[0],evaluation_1[1]))\n",
    "# print(viz1)\n",
    "# print(\"Model 2 : Loss = {} , Accuracy = {}\".format(evaluation_2[0],evaluation_2[1]))\n",
    "# print(viz2)\n",
    "# print(\"Model 3 : Loss = {} , Accuracy = {}\".format(evaluation_3[0],evaluation_3[1]))\n"
   ]
  },
  {
   "cell_type": "code",
   "execution_count": 4,
   "metadata": {},
   "outputs": [
    {
     "name": "stdout",
     "output_type": "stream",
     "text": [
      "Model 1\n"
     ]
    },
    {
     "ename": "NameError",
     "evalue": "name 'history_1' is not defined",
     "output_type": "error",
     "traceback": [
      "\u001b[0;31m---------------------------------------------------------------------------\u001b[0m",
      "\u001b[0;31mNameError\u001b[0m                                 Traceback (most recent call last)",
      "\u001b[0;32m<ipython-input-4-378fa4d9e03f>\u001b[0m in \u001b[0;36m<module>\u001b[0;34m\u001b[0m\n\u001b[1;32m      4\u001b[0m \u001b[0mfig\u001b[0m \u001b[0;34m=\u001b[0m \u001b[0mplt\u001b[0m\u001b[0;34m.\u001b[0m\u001b[0mfigure\u001b[0m\u001b[0;34m(\u001b[0m\u001b[0;34m)\u001b[0m\u001b[0;34m\u001b[0m\u001b[0;34m\u001b[0m\u001b[0m\n\u001b[1;32m      5\u001b[0m \u001b[0mplt\u001b[0m\u001b[0;34m.\u001b[0m\u001b[0msubplot\u001b[0m\u001b[0;34m(\u001b[0m\u001b[0;36m2\u001b[0m\u001b[0;34m,\u001b[0m\u001b[0;36m1\u001b[0m\u001b[0;34m,\u001b[0m\u001b[0;36m1\u001b[0m\u001b[0;34m)\u001b[0m\u001b[0;34m\u001b[0m\u001b[0;34m\u001b[0m\u001b[0m\n\u001b[0;32m----> 6\u001b[0;31m \u001b[0mplt\u001b[0m\u001b[0;34m.\u001b[0m\u001b[0mplot\u001b[0m\u001b[0;34m(\u001b[0m\u001b[0mhistory_1\u001b[0m\u001b[0;34m.\u001b[0m\u001b[0mhistory\u001b[0m\u001b[0;34m[\u001b[0m\u001b[0;34m'accuracy'\u001b[0m\u001b[0;34m]\u001b[0m\u001b[0;34m)\u001b[0m\u001b[0;34m\u001b[0m\u001b[0;34m\u001b[0m\u001b[0m\n\u001b[0m\u001b[1;32m      7\u001b[0m \u001b[0mplt\u001b[0m\u001b[0;34m.\u001b[0m\u001b[0mplot\u001b[0m\u001b[0;34m(\u001b[0m\u001b[0mhistory_1\u001b[0m\u001b[0;34m.\u001b[0m\u001b[0mhistory\u001b[0m\u001b[0;34m[\u001b[0m\u001b[0;34m'val_accuracy'\u001b[0m\u001b[0;34m]\u001b[0m\u001b[0;34m)\u001b[0m\u001b[0;34m\u001b[0m\u001b[0;34m\u001b[0m\u001b[0m\n\u001b[1;32m      8\u001b[0m \u001b[0mplt\u001b[0m\u001b[0;34m.\u001b[0m\u001b[0mtitle\u001b[0m\u001b[0;34m(\u001b[0m\u001b[0;34m'model accuracy'\u001b[0m\u001b[0;34m)\u001b[0m\u001b[0;34m\u001b[0m\u001b[0;34m\u001b[0m\u001b[0m\n",
      "\u001b[0;31mNameError\u001b[0m: name 'history_1' is not defined"
     ]
    },
    {
     "data": {
      "image/png": "[encoded data removed]",
      "text/plain": [
       "<Figure size 432x288 with 1 Axes>"
      ]
     },
     "metadata": {
      "needs_background": "light"
     },
     "output_type": "display_data"
    }
   ],
   "source": [
    "# plotting the metrics\n",
    "\n",
    "print(\"Model 1\")\n",
    "fig = plt.figure()\n",
    "plt.subplot(2,1,1)\n",
    "plt.plot(history_1.history['accuracy'])\n",
    "plt.plot(history_1.history['val_accuracy'])\n",
    "plt.title('model accuracy')\n",
    "plt.ylabel('accuracy')\n",
    "plt.xlabel('epoch')\n",
    "plt.legend(['train', 'test'], loc='lower right')\n",
    "\n",
    "plt.subplot(2,1,2)\n",
    "plt.plot(history_1.history['loss'])\n",
    "plt.plot(history_1.history['val_loss'])\n",
    "plt.title('model loss')\n",
    "plt.ylabel('loss')\n",
    "plt.xlabel('epoch')\n",
    "plt.legend(['train', 'test'], loc='upper right')\n",
    "\n",
    "plt.tight_layout()\n",
    "\n",
    "\n"
   ]
  },
  {
   "cell_type": "code",
   "execution_count": null,
   "metadata": {},
   "outputs": [],
   "source": [
    "print(\"Model 2\")\n",
    "fig = plt.figure()\n",
    "plt.subplot(2,1,1)\n",
    "plt.plot(history_2.history['accuracy'])\n",
    "plt.plot(history_2.history['val_accuracy'])\n",
    "plt.title('model accuracy')\n",
    "plt.ylabel('accuracy')\n",
    "plt.xlabel('epoch')\n",
    "plt.legend(['train', 'test'], loc='lower right')\n",
    "\n",
    "plt.subplot(2,1,2)\n",
    "plt.plot(history_2.history['loss'])\n",
    "plt.plot(history_2.history['val_loss'])\n",
    "plt.title('model loss')\n",
    "plt.ylabel('loss')\n",
    "plt.xlabel('epoch')\n",
    "plt.legend(['train', 'test'], loc='upper right')\n",
    "\n",
    "plt.tight_layout()"
   ]
  },
  {
   "cell_type": "code",
   "execution_count": null,
   "metadata": {},
   "outputs": [],
   "source": [
    "print(\"Model 3\")\n",
    "fig = plt.figure()\n",
    "plt.subplot(2,1,1)\n",
    "plt.plot(history_3.history['accuracy'])\n",
    "plt.plot(history_3.history['val_accuracy'])\n",
    "plt.title('model accuracy')\n",
    "plt.ylabel('accuracy')\n",
    "plt.xlabel('epoch')\n",
    "plt.legend(['train', 'test'], loc='lower right')\n",
    "\n",
    "plt.subplot(2,1,2)\n",
    "plt.plot(history_3.history['loss'])\n",
    "plt.plot(history_3.history['val_loss'])\n",
    "plt.title('model loss')\n",
    "plt.ylabel('loss')\n",
    "plt.xlabel('epoch')\n",
    "plt.legend(['train', 'test'], loc='upper right')\n",
    "\n",
    "plt.tight_layout()"
   ]
  },
  {
   "cell_type": "code",
   "execution_count": null,
   "metadata": {},
   "outputs": [],
   "source": [
    "# Prediction 1\n",
    "pred1 = model1.predict(x_test)\n",
    "pred2 = model2.predict(x_test)\n",
    "pred3 = model3.predict(x_test)\n",
    "prediction_1 = np.argmax(pred1,axis=1)"
   ]
  },
  {
   "cell_type": "code",
   "execution_count": null,
   "metadata": {},
   "outputs": [],
   "source": [
    "print(\"Model 1\")\n",
    "print(ConfusionMatrixDisplay.from_predictions(y_test, prediction_1))\n"
   ]
  },
  {
   "cell_type": "code",
   "execution_count": null,
   "metadata": {},
   "outputs": [],
   "source": [
    "print(classification_report(y_test, prediction_1))"
   ]
  },
  {
   "cell_type": "markdown",
   "metadata": {},
   "source": [
    "# Modele avec  BatchNormalization"
   ]
  },
  {
   "cell_type": "code",
   "execution_count": null,
   "metadata": {},
   "outputs": [],
   "source": [
    "# Model with batch Normalization \n",
    "model_B = Sequential()\n",
    "model_B.add(Dense(784, input_shape=(784,)))\n",
    "model_B.add(BatchNormalization())\n",
    "model_B.add(Dense(392,Activation('relu')))\n",
    "model_B.add(BatchNormalization())\n",
    "model_B.add(Dense(196,Activation('softplus')))\n",
    "model_B.add(BatchNormalization())\n",
    "model_B.add(Dense(98,Activation('relu')))\n",
    "model_B.add(BatchNormalization())\n",
    "model_B.add(Dense(10,Activation('softmax')))\n",
    "model_B.compile(loss='categorical_crossentropy', metrics=['accuracy'], optimizer='adam')"
   ]
  },
  {
   "cell_type": "code",
   "execution_count": null,
   "metadata": {},
   "outputs": [],
   "source": [
    "model_B.summary()"
   ]
  },
  {
   "cell_type": "code",
   "execution_count": null,
   "metadata": {},
   "outputs": [],
   "source": [
    "visualkeras.layered_view(model_B, legend=True,)"
   ]
  },
  {
   "cell_type": "code",
   "execution_count": null,
   "metadata": {},
   "outputs": [],
   "source": [
    "history_B = model_B.fit(x_train, Y_train,batch_size=100, epochs=20,verbose=2,validation_data=(x_test, Y_test))\n"
   ]
  },
  {
   "cell_type": "code",
   "execution_count": null,
   "metadata": {},
   "outputs": [],
   "source": [
    "evaluation_B =  model_B.evaluate(x_test, Y_test, verbose=2)"
   ]
  },
  {
   "cell_type": "code",
   "execution_count": null,
   "metadata": {},
   "outputs": [],
   "source": [
    "\n",
    "fig = plt.figure()\n",
    "plt.subplot(2,1,1)\n",
    "plt.plot(history_B.history['accuracy'])\n",
    "plt.plot(history_B.history['val_accuracy'])\n",
    "plt.title('model accuracy')\n",
    "plt.ylabel('accuracy')\n",
    "plt.xlabel('epoch')\n",
    "plt.legend(['train', 'test'], loc='lower right')\n",
    "\n",
    "plt.subplot(2,1,2)\n",
    "plt.plot(history_B.history['loss'])\n",
    "plt.plot(history_B.history['val_loss'])\n",
    "plt.title('model loss')\n",
    "plt.ylabel('loss')\n",
    "plt.xlabel('epoch')\n",
    "plt.legend(['train', 'test'], loc='upper right')\n",
    "\n",
    "plt.tight_layout()"
   ]
  },
  {
   "cell_type": "code",
   "execution_count": null,
   "metadata": {},
   "outputs": [],
   "source": [
    "pred_B = model_B.predict(x_test)\n",
    "prediction_B = np.argmax(pred_B,axis=1)"
   ]
  },
  {
   "cell_type": "code",
   "execution_count": null,
   "metadata": {
    "scrolled": true
   },
   "outputs": [],
   "source": [
    "print(\"Classification report Model Batch Normalization\")\n",
    "print(classification_report(y_test, prediction_B))"
   ]
  },
  {
   "cell_type": "code",
   "execution_count": null,
   "metadata": {},
   "outputs": [],
   "source": []
  },
  {
   "cell_type": "code",
   "execution_count": null,
   "metadata": {},
   "outputs": [],
   "source": []
  },
  {
   "cell_type": "code",
   "execution_count": null,
   "metadata": {},
   "outputs": [],
   "source": []
  },
  {
   "cell_type": "code",
   "execution_count": null,
   "metadata": {},
   "outputs": [],
   "source": [
    "print(\"Model 1\")\n",
    "print(ConfusionMatrixDisplay.from_predictions(y_test, prediction_B))\n"
   ]
  },
  {
   "cell_type": "markdown",
   "metadata": {},
   "source": [
    "# Modele avec  BatchNormalization et Early stopping"
   ]
  },
  {
   "cell_type": "code",
   "execution_count": null,
   "metadata": {},
   "outputs": [],
   "source": [
    "\"\"\"Construction du modele avec Batchnormalization et early stopping\"\"\""
   ]
  },
  {
   "cell_type": "code",
   "execution_count": null,
   "metadata": {},
   "outputs": [],
   "source": [
    "stopping = EarlyStopping(monitor='val_loss', mode='min', verbose=1, patience=200)"
   ]
  },
  {
   "cell_type": "code",
   "execution_count": null,
   "metadata": {},
   "outputs": [],
   "source": [
    "# Model with batch Normalization \n",
    "model_ES = Sequential()\n",
    "model_ES.add(Dense(784, input_shape=(784,)))\n",
    "model_ES.add(BatchNormalization())\n",
    "model_ES.add(Dropout(0.2))\n",
    "model_ES.add(Dense(392,Activation('relu')))\n",
    "model_ES.add(BatchNormalization())\n",
    "model_ES.add(Dropout(0.2))\n",
    "model_ES.add(Dense(196,Activation('softplus')))\n",
    "model_ES.add(BatchNormalization())\n",
    "model_ES.add(Dropout(0.2))\n",
    "model_ES.add(Dense(98,Activation('relu')))\n",
    "model_ES.add(BatchNormalization())\n",
    "model_ES.add(Dense(10,Activation('softmax')))\n",
    "model_ES.compile(loss='categorical_crossentropy', metrics=['accuracy'], optimizer='adam')"
   ]
  },
  {
   "cell_type": "code",
   "execution_count": null,
   "metadata": {},
   "outputs": [],
   "source": [
    "print(model_ES.summary())\n",
    "visualkeras.layered_view(model_ES, legend=True,)"
   ]
  },
  {
   "cell_type": "code",
   "execution_count": null,
   "metadata": {},
   "outputs": [],
   "source": [
    "history_ES = model_ES.fit(x_train, Y_train,batch_size=100, epochs=20,verbose=2,validation_data=(x_test, Y_test),callbacks=[stopping])"
   ]
  },
  {
   "cell_type": "code",
   "execution_count": null,
   "metadata": {},
   "outputs": [],
   "source": [
    "evaluation_ES =  model_ES.evaluate(x_test, Y_test, verbose=2)"
   ]
  },
  {
   "cell_type": "code",
   "execution_count": null,
   "metadata": {},
   "outputs": [],
   "source": [
    "\n",
    "fig = plt.figure()\n",
    "plt.subplot(2,1,1)\n",
    "plt.plot(history_ES.history['accuracy'])\n",
    "plt.plot(history_ES.history['val_accuracy'])\n",
    "plt.title('model accuracy')\n",
    "plt.ylabel('accuracy')\n",
    "plt.xlabel('epoch')\n",
    "plt.legend(['train', 'test'], loc='lower right')\n",
    "\n",
    "plt.subplot(2,1,2)\n",
    "plt.plot(history_ES.history['loss'])\n",
    "plt.plot(history_ES.history['val_loss'])\n",
    "plt.title('model loss')\n",
    "plt.ylabel('loss')\n",
    "plt.xlabel('epoch')\n",
    "plt.legend(['train', 'test'], loc='upper right')\n",
    "\n",
    "plt.tight_layout()"
   ]
  },
  {
   "cell_type": "code",
   "execution_count": null,
   "metadata": {},
   "outputs": [],
   "source": [
    "pred_ES = model_ES.predict(x_test)\n",
    "prediction_ES = np.argmax(pred_ES,axis=1)"
   ]
  },
  {
   "cell_type": "code",
   "execution_count": null,
   "metadata": {},
   "outputs": [],
   "source": [
    "print(\"Classification report Model Batch Normalization + Early Stopping\")\n",
    "print(classification_report(y_test, prediction_ES))"
   ]
  },
  {
   "cell_type": "code",
   "execution_count": null,
   "metadata": {},
   "outputs": [],
   "source": [
    "print(\"Model 1\")\n",
    "print(ConfusionMatrixDisplay.from_predictions(y_test, prediction_ES))\n"
   ]
  },
  {
   "cell_type": "code",
   "execution_count": null,
   "metadata": {},
   "outputs": [],
   "source": []
  }
 ],
 "metadata": {
  "kernelspec": {
   "display_name": "Python 3.7.3 ('base')",
   "language": "python",
   "name": "python3"
  },
  "language_info": {
   "codemirror_mode": {
    "name": "ipython",
    "version": 3
   },
   "file_extension": ".py",
   "mimetype": "text/x-python",
   "name": "python",
   "nbconvert_exporter": "python",
   "pygments_lexer": "ipython3",
   "version": "3.7.3"
  },
  "vscode": {
   "interpreter": {
    "hash": "b135842c0dc9d190230031c0561d76462c30261813c5cfd47d9fbe020ade0b85"
   }
  }
 },
 "nbformat": 4,
 "nbformat_minor": 2
}
